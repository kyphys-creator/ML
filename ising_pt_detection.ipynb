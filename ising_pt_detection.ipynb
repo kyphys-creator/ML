{
  "cells": [
    {
      "cell_type": "markdown",
      "metadata": {
        "id": "wLmsuCOK2Vr8"
      },
      "source": [
        "# Phase transition detection in 2-dimensional Ising model\n",
        "\n",
        "Using Neural Network, we will detect the critical temperature $\\beta_{cr} = 0.440686$."
      ]
    },
    {
      "cell_type": "code",
      "execution_count": 22,
      "metadata": {
        "id": "pLak5dPlZ8ha"
      },
      "outputs": [],
      "source": [
        "import numpy as np\n",
        "import tensorflow as tf\n",
        "import keras\n",
        "import pylab as plt\n",
        "from numpy.linalg import solve"
      ]
    },
    {
      "cell_type": "code",
      "execution_count": null,
      "metadata": {
        "colab": {
          "base_uri": "https://localhost:8080/"
        },
        "id": "4xsoQmixQuZQ",
        "outputId": "2da9ff38-960d-4bbb-9e54-6262d8154610"
      },
      "outputs": [],
      "source": [
        "# number of configuration\n",
        "!ls -l conf|grep npy|wc -l"
      ]
    },
    {
      "cell_type": "code",
      "execution_count": 24,
      "metadata": {
        "id": "iSKWMQ7has1m"
      },
      "outputs": [],
      "source": [
        "# list of parameters\n",
        "prm_list = [\n",
        "            # beta, file_name, \n",
        "             [0.90,\"conf/L32b090_\"],\n",
        "             [0.85,\"conf/L32b085_\"],\n",
        "            \n",
        "             [0.80,\"conf/L32b080_\"],\n",
        "             [0.70,\"conf/L32b070_\"],\n",
        "            \n",
        "             [0.65,\"conf/L32b065_\"],\n",
        "             [0.60,\"conf/L32b060_\"],\n",
        "            \n",
        "             [0.55,\"conf/L32b055_\"],\n",
        "             [0.50,\"conf/L32b050_\"],\n",
        "            \n",
        "             [0.47,\"conf/L32b047_\"],\n",
        "             [0.42,\"conf/L32b042_\"],\n",
        "            \n",
        "             [0.40,\"conf/L32b040_\"],\n",
        "             [0.35,\"conf/L32b035_\"],\n",
        "            \n",
        "             [0.30,\"conf/L32b030_\"],\n",
        "             [0.25,\"conf/L32b025_\"],\n",
        "            \n",
        "             [0.20,\"conf/L32b020_\"],\n",
        "             [0.15,\"conf/L32b015_\"],\n",
        "            \n",
        "             [0.10,\"conf/L32b010_\"],\n",
        "             [0.05,\"conf/L32b005_\"],\n",
        "            \n",
        "             [0.00,\"conf/L32b000_\"]\n",
        "]\n",
        "# beta19 x conf100 = 1900 data"
      ]
    },
    {
      "cell_type": "code",
      "execution_count": null,
      "metadata": {
        "colab": {
          "base_uri": "https://localhost:8080/",
          "height": 1000
        },
        "id": "oNPYL7wkU4Ao",
        "outputId": "6abdafaa-27bc-488a-eb49-a5a44fa21ba8"
      },
      "outputs": [],
      "source": [
        "print(\"Reading training data\")\n",
        "for iconf in range(2):\n",
        "  print(\"beta=090\")\n",
        "  file = f\"conf/L32b090_{iconf}.npy\"\n",
        "  sc = np.load(file)\n",
        "  plt.imshow(sc, cmap='gray')\n",
        "  plt.show()\n",
        "for iconf in range(2):\n",
        "  print(\"beta=040\")\n",
        "  file = f\"conf/L32b040_{iconf}.npy\"\n",
        "  sc = np.load(file)\n",
        "  plt.imshow(sc, cmap='gray')\n",
        "  plt.show()\n",
        "for iconf in range(2):\n",
        "  print(\"beta=000\")\n",
        "  file = f\"conf/L32b000_{iconf}.npy\"\n",
        "  sc = np.load(file)\n",
        "  plt.imshow(sc, cmap='gray')\n",
        "  plt.show()"
      ]
    },
    {
      "cell_type": "markdown",
      "metadata": {
        "id": "EFei9CNFNvU4"
      },
      "source": [
        "# Feature labeling and data separation"
      ]
    },
    {
      "cell_type": "code",
      "execution_count": 26,
      "metadata": {
        "id": "C0-IkWVndk06"
      },
      "outputs": [],
      "source": [
        "nconf = 100 # The number of configurations per beta\n",
        "betacr = 0.440686 # critical temperature for 2d Ising model\n",
        "#\n",
        "data = []\n",
        "labels = []\n",
        "betas = []\n",
        "nprm=len(prm_list)\n",
        "for ibeta in range(nprm):\n",
        "  beta = prm_list[ibeta][0]\n",
        "  fname = prm_list[ibeta][1]\n",
        "  for itrj in range(nconf):\n",
        "    npsc = np.load(f\"{fname}{itrj}.npy\")\n",
        "    data.append(npsc)\n",
        "    if beta > betacr:\n",
        "      labels.append([0,1])\n",
        "    else:\n",
        "      labels.append([1,0])\n",
        "    betas.append(beta)\n",
        "data = np.array(data)\n",
        "labels = np.array(labels)\n",
        "#\n",
        "train_data=data[0::2]\n",
        "train_labels=labels[0::2]\n",
        "train_betas=betas[0::2] # this will not be used in training\n",
        "#\n",
        "val_data=data[1::2]\n",
        "val_labels=labels[1::2]\n",
        "val_betas=betas[1::2]\n",
        "#\n",
        "# beta18 x conf100 = 1800 data\n",
        "# beta18 x conf50 = 900 training_data(18x50,same beta = 50) + 900 val_data"
      ]
    },
    {
      "cell_type": "code",
      "execution_count": null,
      "metadata": {
        "colab": {
          "base_uri": "https://localhost:8080/"
        },
        "id": "gSGWXztFCNeS",
        "outputId": "374aeb04-e4a8-4988-e8ba-48e2ceaaf07b"
      },
      "outputs": [],
      "source": [
        "print(\"train_data.shape = \", train_data.shape)\n",
        "print(\"val_data.shape = \", val_data.shape)"
      ]
    },
    {
      "cell_type": "markdown",
      "metadata": {
        "id": "IR8yz5NsLEUQ"
      },
      "source": [
        "## Model Definition"
      ]
    },
    {
      "cell_type": "code",
      "execution_count": 28,
      "metadata": {
        "id": "ePbOOzmq-xET"
      },
      "outputs": [],
      "source": [
        "tf.random.set_seed(12345)\n",
        "model_FC = keras.Sequential([\n",
        "    keras.layers.Flatten(input_shape=(32, 32)),\n",
        "    keras.layers.Dense(100, activation='relu'),\n",
        "    keras.layers.Dense(100, activation='relu'),\n",
        "    keras.layers.Dense(100, activation='relu'),\n",
        "    keras.layers.Dense(2, activation='softmax')\n",
        "])"
      ]
    },
    {
      "cell_type": "code",
      "execution_count": null,
      "metadata": {},
      "outputs": [],
      "source": [
        "model_FC.summary()"
      ]
    },
    {
      "cell_type": "code",
      "execution_count": 43,
      "metadata": {
        "id": "BHzmkDdO_K2y"
      },
      "outputs": [],
      "source": [
        "model_FC.compile(optimizer = keras.optimizers.Adam(learning_rate = 1e-3),\n",
        "              loss='categorical_crossentropy',\n",
        "              metrics=['accuracy'])"
      ]
    },
    {
      "cell_type": "code",
      "execution_count": null,
      "metadata": {
        "colab": {
          "base_uri": "https://localhost:8080/"
        },
        "id": "odPBIcHJ_Tax",
        "outputId": "fc0ef82b-fe74-4dff-bcc1-3f44123eceb7"
      },
      "outputs": [],
      "source": [
        "model_FC.fit(train_data, train_labels, epochs=100)"
      ]
    },
    {
      "cell_type": "code",
      "execution_count": null,
      "metadata": {
        "colab": {
          "base_uri": "https://localhost:8080/",
          "height": 606
        },
        "id": "IwUuUOM-D_Q_",
        "outputId": "3cf5facb-9c4e-4462-e0d6-1ca87b877ca4"
      },
      "outputs": [],
      "source": [
        "xs=[]\n",
        "y1s=[]\n",
        "y2s=[]\n",
        "Ndatamax = 950\n",
        "Nsameclass = 50\n",
        "for ii in range(0,Ndatamax,Nsameclass):\n",
        "  res = model_FC(val_data[ii:ii+Nsameclass])\n",
        "  x = val_betas[ii]\n",
        "  y1= np.mean(res.numpy().T[0] )\n",
        "  y2=np.mean(res.numpy().T[1] )\n",
        "  xs.append( x)\n",
        "  y1s.append( y1 )\n",
        "  y2s.append( y2 )\n",
        "  print(x,y1,y2)\n",
        "plt.axvline(x=0.440686, ymin=0, ymax=1, ls=\"dashed\",color=\"gray\",label=\"Critical(Ans)\")\n",
        "plt.plot(xs,y1s,label=\"class:High\",marker=\"o\",color=\"red\")\n",
        "plt.plot(xs,y2s,label=\"class:Low\",marker=\"o\",color=\"blue\")\n",
        "plt.legend()\n",
        "plt.xlabel(r\"$\\beta=1/T$\")\n",
        "plt.ylabel(r\"Prob\")\n",
        "plt.show()"
      ]
    },
    {
      "cell_type": "code",
      "execution_count": null,
      "metadata": {},
      "outputs": [],
      "source": [
        "xs=[]\n",
        "y1s=[]\n",
        "y2s=[]\n",
        "Ndatamax = 950\n",
        "Nsameclass = 50\n",
        "for ii in range(0,Ndatamax,Nsameclass):\n",
        "  res = model_FC(val_data[ii:ii+Nsameclass])\n",
        "  x = val_betas[ii]\n",
        "  y1= np.mean(res.numpy().T[0] )\n",
        "  y2=np.mean(res.numpy().T[1] )\n",
        "  xs.append( x)\n",
        "  y1s.append( y1 )\n",
        "  y2s.append( y2 )\n",
        "  print(x,y1,y2)\n",
        "plt.axvline(x=0.440686, ymin=0, ymax=1, ls=\"dashed\",color=\"gray\",label=\"Critical(Ans)\")\n",
        "plt.plot(xs,y1s,label=\"class:High\",marker=\"o\",color=\"red\")\n",
        "plt.plot(xs,y2s,label=\"class:Low\",marker=\"o\",color=\"blue\")\n",
        "plt.legend()\n",
        "plt.xlabel(r\"$\\beta=1/T$\")\n",
        "plt.ylabel(r\"Prob\")\n",
        "plt.xlim(0.44, 0.45)\n",
        "plt.ylim(0.45, 0.55)\n",
        "plt.show()"
      ]
    },
    {
      "cell_type": "code",
      "execution_count": null,
      "metadata": {
        "colab": {
          "base_uri": "https://localhost:8080/",
          "height": 371
        },
        "id": "AMmEw5QhPC4v",
        "outputId": "3c98a7d6-a3b7-4c92-d611-bda64d4b1972"
      },
      "outputs": [],
      "source": [
        "# Calculating intersection\n",
        "u1,v1 = xs[9],y1s[9]\n",
        "u2,v2 = xs[8],y1s[8]\n",
        "w1,t1 = xs[9],y2s[9]\n",
        "w2,t2 = xs[8],y2s[8]\n",
        "print(u1,v1)\n",
        "print(u2,v2)\n",
        "#\n",
        "print(w1,t1)\n",
        "print(w2,t2)\n",
        "\n",
        "tan1=(v2-v1)/(u2-u1)\n",
        "tan2=(t2-t1)/(w2-w1)\n",
        "MatA = [[1, -tan1],\n",
        "        [1, -tan2]]\n",
        " \n",
        "vecB = [v1-tan1*u1,\n",
        "        t1-tan2*w1]\n",
        "#\n",
        "sol = solve(MatA, vecB)\n",
        "print(\"sol x,y = \", sol)\n",
        "#\n",
        "xx = np.linspace(0,1)\n",
        "yy = tan1*(xx-u1)+v1\n",
        "plt.plot(xx,yy)\n",
        "#\n",
        "yy = tan2*(xx-w1)+t1\n",
        "plt.plot(xx, yy)\n",
        "plt.ylim(0,1)\n",
        "plt.show()\n",
        "#\n",
        "beta_cr = 0.440686\n",
        "er = round(abs(beta_cr - sol[1])/beta_cr  *100,2)\n",
        "print(f\"Relative error = {er} %\")"
      ]
    },
    {
      "cell_type": "markdown",
      "metadata": {
        "id": "bAQVjjE8Wmc1"
      },
      "source": [
        "# Convolutional neural network\n",
        "\n",
        "CNN"
      ]
    },
    {
      "cell_type": "code",
      "execution_count": 48,
      "metadata": {
        "id": "R5TRF-oAENwe"
      },
      "outputs": [],
      "source": [
        "tf.random.set_seed(12345)\n",
        "model_CNN = keras.Sequential([\n",
        "    keras.layers.Conv2D(filters =  1,\n",
        "                        kernel_size=(4, 4), \n",
        "                        activation='relu', \n",
        "                        input_shape=(32, 32, 1) \n",
        "                        ),\n",
        "    keras.layers.Flatten(),\n",
        "    keras.layers.Dense(100, activation='relu'),\n",
        "    keras.layers.Dense(2, activation='softmax')\n",
        "])"
      ]
    },
    {
      "cell_type": "code",
      "execution_count": null,
      "metadata": {},
      "outputs": [],
      "source": [
        "model_CNN.summary()"
      ]
    },
    {
      "cell_type": "code",
      "execution_count": 73,
      "metadata": {
        "id": "bx0gV2u6QqfR"
      },
      "outputs": [],
      "source": [
        "model_CNN.compile(optimizer = keras.optimizers.Adam(learning_rate = 1e-3), \n",
        "              loss='categorical_crossentropy',\n",
        "              metrics=['accuracy'])"
      ]
    },
    {
      "cell_type": "code",
      "execution_count": null,
      "metadata": {
        "colab": {
          "base_uri": "https://localhost:8080/"
        },
        "id": "R72fLcEmbJN9",
        "outputId": "4a695c2b-85f3-4833-bc9e-a1c0f7697fe9"
      },
      "outputs": [],
      "source": [
        "train_data_cnn=np.array(train_data)\n",
        "train_data_cnn = train_data_cnn.reshape(train_data.shape[0], train_data.shape[1], train_data.shape[2], 1)\n",
        "train_data_cnn.shape"
      ]
    },
    {
      "cell_type": "code",
      "execution_count": null,
      "metadata": {
        "colab": {
          "base_uri": "https://localhost:8080/"
        },
        "id": "nxQarQ8CXCnx",
        "outputId": "d48c2580-92e3-4bda-ab56-ee00e6a8fcc7"
      },
      "outputs": [],
      "source": [
        "callbacks = [\n",
        "    keras.callbacks.ModelCheckpoint(filepath = \"model_at_epoch_{epoch}.keras\"),\n",
        "    keras.callbacks.EarlyStopping(monitor = \"val_loss\", patience = 10),\n",
        "]\n",
        "\n",
        "model_CNN.fit(\n",
        "    train_data_cnn,\n",
        "    train_labels,\n",
        "    epochs = 1000,\n",
        "    validation_split = 0.15,\n",
        "    callbacks = callbacks,\n",
        ")"
      ]
    },
    {
      "cell_type": "code",
      "execution_count": null,
      "metadata": {
        "colab": {
          "base_uri": "https://localhost:8080/",
          "height": 606
        },
        "id": "mDMnsJQZXErP",
        "outputId": "adc913cf-85d8-46eb-c6a4-0e865e9767da"
      },
      "outputs": [],
      "source": [
        "xs=[]\n",
        "y1s=[]\n",
        "y2s=[]\n",
        "Ndatamax = 950\n",
        "Nsameclass = 50\n",
        "for ii in range(0,Ndatamax,Nsameclass):\n",
        "  res = model_CNN(val_data[ii:ii+Nsameclass])\n",
        "  x = val_betas[ii]\n",
        "  y1= np.mean(res.numpy().T[0] )\n",
        "  y2=np.mean(res.numpy().T[1] )\n",
        "  xs.append( x )\n",
        "  y1s.append( y1 )\n",
        "  y2s.append( y2 )\n",
        "  print(x,y1,y2)\n",
        "plt.axvline(x=0.440686, ymin=0, ymax=1, ls=\"dashed\",color=\"gray\",label=\"Critical\")\n",
        "plt.plot(xs,y1s,label=\"class:High\",marker=\"o\",color=\"red\")\n",
        "plt.plot(xs,y2s,label=\"class:Low\",marker=\"o\",color=\"blue\")\n",
        "plt.legend()\n",
        "plt.xlabel(r\"$\\beta=1/T$\")\n",
        "plt.ylabel(r\"Prob\")\n",
        "plt.show()"
      ]
    },
    {
      "cell_type": "code",
      "execution_count": null,
      "metadata": {},
      "outputs": [],
      "source": [
        "plt.axvline(x=0.440686, ymin=0, ymax=1, ls=\"dashed\",color=\"gray\",label=\"Critical\")\n",
        "plt.plot(xs,y1s,label=\"class:High\",marker=\"o\",color=\"red\")\n",
        "plt.plot(xs,y2s,label=\"class:Low\",marker=\"o\",color=\"blue\")\n",
        "plt.legend()\n",
        "plt.xlabel(r\"$\\beta=1/T$\")\n",
        "plt.ylabel(r\"Prob\")\n",
        "plt.xlim(0.44, 0.45)\n",
        "plt.ylim(0.45, 0.55)\n",
        "plt.show()"
      ]
    },
    {
      "cell_type": "code",
      "execution_count": null,
      "metadata": {
        "colab": {
          "base_uri": "https://localhost:8080/",
          "height": 371
        },
        "id": "CPCbqu3aBCkd",
        "outputId": "86df40e4-b28b-4fae-a656-99f273891a46"
      },
      "outputs": [],
      "source": [
        "u1,v1 = xs[9],y1s[9]\n",
        "u2,v2 = xs[8],y1s[8]\n",
        "w1,t1 = xs[9],y2s[9]\n",
        "w2,t2 = xs[8],y2s[8]\n",
        "print(u1,v1)\n",
        "print(u2,v2)\n",
        "#\n",
        "print(w1,t1)\n",
        "print(w2,t2)\n",
        "\n",
        "from numpy.linalg import solve\n",
        "\n",
        "tan1=(v2-v1)/(u2-u1)\n",
        "tan2=(t2-t1)/(w2-w1)\n",
        "MatA = [[1, -tan1],\n",
        "        [1, -tan2]]\n",
        " \n",
        "vecB = [v1-tan1*u1,\n",
        "        t1-tan2*w1]\n",
        "#\n",
        "sol = solve(MatA, vecB)\n",
        "print(\"sol x,y = \", sol)\n",
        "#\n",
        "xx = np.linspace(0,1)\n",
        "yy = tan1*(xx-u1)+v1\n",
        "plt.plot(xx,yy)\n",
        "#\n",
        "yy = tan2*(xx-w1)+t1\n",
        "plt.plot(xx, yy)\n",
        "plt.ylim(0,1)\n",
        "plt.show()\n",
        "#\n",
        "beta_cr = 0.440686\n",
        "er = round(abs(beta_cr - sol[1])/beta_cr  *100,2)\n",
        "print(f\"Relative error = {er} %\")"
      ]
    }
  ],
  "metadata": {
    "colab": {
      "collapsed_sections": [],
      "name": "DLAP2020_ising_detection.ipynb",
      "provenance": []
    },
    "kernelspec": {
      "display_name": "base",
      "language": "python",
      "name": "python3"
    },
    "language_info": {
      "codemirror_mode": {
        "name": "ipython",
        "version": 3
      },
      "file_extension": ".py",
      "mimetype": "text/x-python",
      "name": "python",
      "nbconvert_exporter": "python",
      "pygments_lexer": "ipython3",
      "version": "3.10.15"
    }
  },
  "nbformat": 4,
  "nbformat_minor": 0
}
